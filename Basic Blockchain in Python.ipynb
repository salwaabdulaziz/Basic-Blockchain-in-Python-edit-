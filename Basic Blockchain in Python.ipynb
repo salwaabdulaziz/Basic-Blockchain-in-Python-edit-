{
 "cells": [
  {
   "cell_type": "code",
   "execution_count": 1,
   "id": "3d13d5d9",
   "metadata": {},
   "outputs": [],
   "source": [
    "from hashlib import sha256\n",
    "import json\n",
    "import time"
   ]
  },
  {
   "cell_type": "code",
   "execution_count": 2,
   "id": "954c6d4b",
   "metadata": {},
   "outputs": [],
   "source": [
    "class Block:\n",
    "    def __init__(self, index, transactions, timestamp, previous_hash, nonce=0):\n",
    "        self.index = index\n",
    "        self.transactions = transactions\n",
    "        self.timestamp = timestamp\n",
    "        self.previous_hash = previous_hash\n",
    "        self.nonce = nonce\n",
    "\n",
    "    def compute_hash(self):\n",
    "        block_string = json.dumps(self.__dict__, sort_keys=True)\n",
    "        return sha256(block_string.encode()).hexdigest()"
   ]
  },
  {
   "cell_type": "code",
   "execution_count": 3,
   "id": "7f724e0c",
   "metadata": {},
   "outputs": [],
   "source": [
    "class Blockchain: \n",
    "    def __init__(self):\n",
    "        self.unconfirmed_transactions = [\"Anwar pays Adam 1000 BTC\"]\n",
    "        self.chain = []\n",
    "        self.difficulty = 5\n",
    "        self.create_genesis_block()\n",
    " \n",
    "    def create_genesis_block(self):\n",
    "        genesis_block = Block(0, [], time.time(), \"0\")\n",
    "        genesis_block.hash = genesis_block.compute_hash()\n",
    "        self.chain.append(genesis_block)\n",
    "    @property\n",
    "    def last_block(self):\n",
    "        return self.chain[-1]\n",
    "    def proof_of_work(self, block):\n",
    "        block.nonce = 0\n",
    "        computed_hash = block.compute_hash()\n",
    "        while not computed_hash.startswith('0' * self.difficulty):\n",
    "            block.nonce += 1\n",
    "            computed_hash = block.compute_hash()\n",
    "        return computed_hash\n",
    "    def mine(self):\n",
    "        if not self.unconfirmed_transactions:\n",
    "            return False\n",
    " \n",
    "        last_block = self.last_block\n",
    " \n",
    "        new_block = Block(index=last_block.index + 1,\n",
    "                          transactions=self.unconfirmed_transactions,\n",
    "                          timestamp=time.time(),\n",
    "                          previous_hash=last_block.hash)\n",
    " \n",
    "        proof = self.proof_of_work(new_block)\n",
    "        self.add_block(new_block, proof)\n",
    "        self.unconfirmed_transactions = [\"Anwar pays Adam 1000 BTC\"]\n",
    "        return new_block.index\n",
    "    def is_valid_proof(self, block, block_hash):\n",
    "        return (block_hash.startswith('0' * self.difficulty) and\n",
    "                block_hash == block.compute_hash())\n",
    "    def add_block(self, block, proof):\n",
    "        previous_hash = self.last_block.hash\n",
    "        if previous_hash != block.previous_hash:\n",
    "            return False\n",
    "        if not self.is_valid_proof(block, proof):\n",
    "            return False\n",
    "        block.hash = proof\n",
    "        self.chain.append(block)\n",
    "        return True\n",
    "    def add_new_transaction(self, transaction):\n",
    "            self.unconfirmed_transactions.append(transaction)"
   ]
  },
  {
   "cell_type": "code",
   "execution_count": 4,
   "id": "8cd93db3",
   "metadata": {},
   "outputs": [
    {
     "name": "stdout",
     "output_type": "stream",
     "text": [
      "328d9d2390f770039ba9626abb112b7321799982ca762fc045e12f8f39c48ffc\n",
      "0000035e8d5ef38ee0d99938beebccb003ee044b661a164e60c127481f733c41\n",
      "000005227816dfd5212f36e52e1a15f389f3849c327feeb11df090fa9465f5b8\n",
      "000005471707b48389701582b263c37d2bedcc9fb7a6ba5b036afaeafe461d2c\n",
      "0000004fae000fd49ecc5d89c41351c5c7f93d064b4c70830f6be9b7770547da\n",
      "0000074c35bc2fe2db5faf6f6a03539bcd6c631234e258a25f3386aa2d3b5bd2\n",
      "00000db566e9375593dde74184f201a4592c30ef80b8869a3db169d336b8951f\n",
      "0000055042c1da86dbcbc45f5b66efdca7500915f58411c068204c5db29e8574\n",
      "00000ea0675ddc46a3dbe000e496491c6d66a026f7fb2ee2051f9bdd09294055\n"
     ]
    }
   ],
   "source": [
    "CoolChain = Blockchain()\n",
    "while len(CoolChain.chain) < 10:\n",
    "    \n",
    "    print(CoolChain.chain[-1].hash)\n",
    "\n",
    "    CoolChain.mine()"
   ]
  },
  {
   "cell_type": "code",
   "execution_count": null,
   "id": "bb6144fa",
   "metadata": {},
   "outputs": [],
   "source": []
  }
 ],
 "metadata": {
  "kernelspec": {
   "display_name": "Python 3",
   "language": "python",
   "name": "python3"
  },
  "language_info": {
   "codemirror_mode": {
    "name": "ipython",
    "version": 3
   },
   "file_extension": ".py",
   "mimetype": "text/x-python",
   "name": "python",
   "nbconvert_exporter": "python",
   "pygments_lexer": "ipython3",
   "version": "3.8.8"
  }
 },
 "nbformat": 4,
 "nbformat_minor": 5
}
